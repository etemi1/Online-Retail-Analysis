{
  "nbformat": 4,
  "nbformat_minor": 0,
  "metadata": {
    "colab": {
      "provenance": [],
      "toc_visible": true
    },
    "kernelspec": {
      "name": "python3",
      "display_name": "Python 3"
    },
    "language_info": {
      "name": "python"
    }
  },
  "cells": [
    {
      "cell_type": "code",
      "execution_count": 1,
      "metadata": {
        "id": "iezf2IdPgFOr"
      },
      "outputs": [],
      "source": [
        "import pandas as pd\n",
        "import matplotlib.pyplot as plt\n",
        "import plotly.express as px "
      ]
    },
    {
      "cell_type": "code",
      "source": [
        "df = pd.read_excel(\"/content/Online Retail (1).xlsx\")"
      ],
      "metadata": {
        "id": "OCYaydvbgTVf"
      },
      "execution_count": 2,
      "outputs": []
    },
    {
      "cell_type": "code",
      "source": [
        "df.info()"
      ],
      "metadata": {
        "colab": {
          "base_uri": "https://localhost:8080/"
        },
        "id": "XTH8qYmJiThr",
        "outputId": "c9c18bb5-f4a9-4cb5-b4cd-7829ff5af4cf"
      },
      "execution_count": 3,
      "outputs": [
        {
          "output_type": "stream",
          "name": "stdout",
          "text": [
            "<class 'pandas.core.frame.DataFrame'>\n",
            "RangeIndex: 531283 entries, 0 to 531282\n",
            "Data columns (total 8 columns):\n",
            " #   Column       Non-Null Count   Dtype         \n",
            "---  ------       --------------   -----         \n",
            " 0   InvoiceNo    531283 non-null  object        \n",
            " 1   StockCode    531283 non-null  object        \n",
            " 2   Description  530691 non-null  object        \n",
            " 3   Quantity     531283 non-null  int64         \n",
            " 4   InvoiceDate  531283 non-null  datetime64[ns]\n",
            " 5   UnitPrice    531283 non-null  float64       \n",
            " 6   CustomerID   397924 non-null  float64       \n",
            " 7   Country      531283 non-null  object        \n",
            "dtypes: datetime64[ns](1), float64(2), int64(1), object(4)\n",
            "memory usage: 32.4+ MB\n"
          ]
        }
      ]
    },
    {
      "cell_type": "code",
      "source": [
        "df.dropna(inplace =True)"
      ],
      "metadata": {
        "id": "vUHE-mC2iWtN"
      },
      "execution_count": 4,
      "outputs": []
    },
    {
      "cell_type": "code",
      "source": [
        "df.info()"
      ],
      "metadata": {
        "colab": {
          "base_uri": "https://localhost:8080/"
        },
        "id": "oEI2CP4yic7T",
        "outputId": "65663bfb-f2fe-45e2-d5e9-f8ea364cebe7"
      },
      "execution_count": 5,
      "outputs": [
        {
          "output_type": "stream",
          "name": "stdout",
          "text": [
            "<class 'pandas.core.frame.DataFrame'>\n",
            "Int64Index: 397924 entries, 0 to 531282\n",
            "Data columns (total 8 columns):\n",
            " #   Column       Non-Null Count   Dtype         \n",
            "---  ------       --------------   -----         \n",
            " 0   InvoiceNo    397924 non-null  object        \n",
            " 1   StockCode    397924 non-null  object        \n",
            " 2   Description  397924 non-null  object        \n",
            " 3   Quantity     397924 non-null  int64         \n",
            " 4   InvoiceDate  397924 non-null  datetime64[ns]\n",
            " 5   UnitPrice    397924 non-null  float64       \n",
            " 6   CustomerID   397924 non-null  float64       \n",
            " 7   Country      397924 non-null  object        \n",
            "dtypes: datetime64[ns](1), float64(2), int64(1), object(4)\n",
            "memory usage: 27.3+ MB\n"
          ]
        }
      ]
    },
    {
      "cell_type": "code",
      "source": [
        "df[\"CustomerID\"]=df[\"CustomerID\"].astype(int)"
      ],
      "metadata": {
        "id": "nXAFhs5Aigen"
      },
      "execution_count": 6,
      "outputs": []
    },
    {
      "cell_type": "code",
      "source": [
        "df[\"InvoiceNo\"] =df[\"InvoiceNo\"].astype(int)"
      ],
      "metadata": {
        "id": "1FdeYr-Wiquq"
      },
      "execution_count": 7,
      "outputs": []
    },
    {
      "cell_type": "code",
      "source": [
        "df.isnull().sum()"
      ],
      "metadata": {
        "colab": {
          "base_uri": "https://localhost:8080/"
        },
        "id": "R1bHznlCjx8W",
        "outputId": "19dbc6b0-09ac-4288-c9c0-500fbd968cd0"
      },
      "execution_count": 8,
      "outputs": [
        {
          "output_type": "execute_result",
          "data": {
            "text/plain": [
              "InvoiceNo      0\n",
              "StockCode      0\n",
              "Description    0\n",
              "Quantity       0\n",
              "InvoiceDate    0\n",
              "UnitPrice      0\n",
              "CustomerID     0\n",
              "Country        0\n",
              "dtype: int64"
            ]
          },
          "metadata": {},
          "execution_count": 8
        }
      ]
    },
    {
      "cell_type": "code",
      "source": [
        "df.head()"
      ],
      "metadata": {
        "colab": {
          "base_uri": "https://localhost:8080/",
          "height": 337
        },
        "id": "hRdF9jaNqDr3",
        "outputId": "1b6a0e1c-c14d-4777-ecd8-e6f9478a5377"
      },
      "execution_count": 9,
      "outputs": [
        {
          "output_type": "execute_result",
          "data": {
            "text/plain": [
              "   InvoiceNo StockCode                      Description  Quantity  \\\n",
              "0     536381     71270                  PHOTO CLIP LINE         1   \n",
              "1     536381     22262            FELT EGG COSY CHICKEN         1   \n",
              "2     536381     22637            PIGGY BANK RETROSPOT          1   \n",
              "3     536381     21166       COOK WITH WINE METAL SIGN          1   \n",
              "4     536381    37444A  YELLOW BREAKFAST CUP AND SAUCER         1   \n",
              "\n",
              "          InvoiceDate  UnitPrice  CustomerID         Country  \n",
              "0 2010-12-01 09:41:00       1.25       15311  United Kingdom  \n",
              "1 2010-12-01 09:41:00       0.85       15311  United Kingdom  \n",
              "2 2010-12-01 09:41:00       2.55       15311  United Kingdom  \n",
              "3 2010-12-01 09:41:00       1.95       15311  United Kingdom  \n",
              "4 2010-12-01 09:41:00       2.95       15311  United Kingdom  "
            ],
            "text/html": [
              "\n",
              "  <div id=\"df-c4799fd9-9225-411a-9cf8-78899ae91610\">\n",
              "    <div class=\"colab-df-container\">\n",
              "      <div>\n",
              "<style scoped>\n",
              "    .dataframe tbody tr th:only-of-type {\n",
              "        vertical-align: middle;\n",
              "    }\n",
              "\n",
              "    .dataframe tbody tr th {\n",
              "        vertical-align: top;\n",
              "    }\n",
              "\n",
              "    .dataframe thead th {\n",
              "        text-align: right;\n",
              "    }\n",
              "</style>\n",
              "<table border=\"1\" class=\"dataframe\">\n",
              "  <thead>\n",
              "    <tr style=\"text-align: right;\">\n",
              "      <th></th>\n",
              "      <th>InvoiceNo</th>\n",
              "      <th>StockCode</th>\n",
              "      <th>Description</th>\n",
              "      <th>Quantity</th>\n",
              "      <th>InvoiceDate</th>\n",
              "      <th>UnitPrice</th>\n",
              "      <th>CustomerID</th>\n",
              "      <th>Country</th>\n",
              "    </tr>\n",
              "  </thead>\n",
              "  <tbody>\n",
              "    <tr>\n",
              "      <th>0</th>\n",
              "      <td>536381</td>\n",
              "      <td>71270</td>\n",
              "      <td>PHOTO CLIP LINE</td>\n",
              "      <td>1</td>\n",
              "      <td>2010-12-01 09:41:00</td>\n",
              "      <td>1.25</td>\n",
              "      <td>15311</td>\n",
              "      <td>United Kingdom</td>\n",
              "    </tr>\n",
              "    <tr>\n",
              "      <th>1</th>\n",
              "      <td>536381</td>\n",
              "      <td>22262</td>\n",
              "      <td>FELT EGG COSY CHICKEN</td>\n",
              "      <td>1</td>\n",
              "      <td>2010-12-01 09:41:00</td>\n",
              "      <td>0.85</td>\n",
              "      <td>15311</td>\n",
              "      <td>United Kingdom</td>\n",
              "    </tr>\n",
              "    <tr>\n",
              "      <th>2</th>\n",
              "      <td>536381</td>\n",
              "      <td>22637</td>\n",
              "      <td>PIGGY BANK RETROSPOT</td>\n",
              "      <td>1</td>\n",
              "      <td>2010-12-01 09:41:00</td>\n",
              "      <td>2.55</td>\n",
              "      <td>15311</td>\n",
              "      <td>United Kingdom</td>\n",
              "    </tr>\n",
              "    <tr>\n",
              "      <th>3</th>\n",
              "      <td>536381</td>\n",
              "      <td>21166</td>\n",
              "      <td>COOK WITH WINE METAL SIGN</td>\n",
              "      <td>1</td>\n",
              "      <td>2010-12-01 09:41:00</td>\n",
              "      <td>1.95</td>\n",
              "      <td>15311</td>\n",
              "      <td>United Kingdom</td>\n",
              "    </tr>\n",
              "    <tr>\n",
              "      <th>4</th>\n",
              "      <td>536381</td>\n",
              "      <td>37444A</td>\n",
              "      <td>YELLOW BREAKFAST CUP AND SAUCER</td>\n",
              "      <td>1</td>\n",
              "      <td>2010-12-01 09:41:00</td>\n",
              "      <td>2.95</td>\n",
              "      <td>15311</td>\n",
              "      <td>United Kingdom</td>\n",
              "    </tr>\n",
              "  </tbody>\n",
              "</table>\n",
              "</div>\n",
              "      <button class=\"colab-df-convert\" onclick=\"convertToInteractive('df-c4799fd9-9225-411a-9cf8-78899ae91610')\"\n",
              "              title=\"Convert this dataframe to an interactive table.\"\n",
              "              style=\"display:none;\">\n",
              "        \n",
              "  <svg xmlns=\"http://www.w3.org/2000/svg\" height=\"24px\"viewBox=\"0 0 24 24\"\n",
              "       width=\"24px\">\n",
              "    <path d=\"M0 0h24v24H0V0z\" fill=\"none\"/>\n",
              "    <path d=\"M18.56 5.44l.94 2.06.94-2.06 2.06-.94-2.06-.94-.94-2.06-.94 2.06-2.06.94zm-11 1L8.5 8.5l.94-2.06 2.06-.94-2.06-.94L8.5 2.5l-.94 2.06-2.06.94zm10 10l.94 2.06.94-2.06 2.06-.94-2.06-.94-.94-2.06-.94 2.06-2.06.94z\"/><path d=\"M17.41 7.96l-1.37-1.37c-.4-.4-.92-.59-1.43-.59-.52 0-1.04.2-1.43.59L10.3 9.45l-7.72 7.72c-.78.78-.78 2.05 0 2.83L4 21.41c.39.39.9.59 1.41.59.51 0 1.02-.2 1.41-.59l7.78-7.78 2.81-2.81c.8-.78.8-2.07 0-2.86zM5.41 20L4 18.59l7.72-7.72 1.47 1.35L5.41 20z\"/>\n",
              "  </svg>\n",
              "      </button>\n",
              "      \n",
              "  <style>\n",
              "    .colab-df-container {\n",
              "      display:flex;\n",
              "      flex-wrap:wrap;\n",
              "      gap: 12px;\n",
              "    }\n",
              "\n",
              "    .colab-df-convert {\n",
              "      background-color: #E8F0FE;\n",
              "      border: none;\n",
              "      border-radius: 50%;\n",
              "      cursor: pointer;\n",
              "      display: none;\n",
              "      fill: #1967D2;\n",
              "      height: 32px;\n",
              "      padding: 0 0 0 0;\n",
              "      width: 32px;\n",
              "    }\n",
              "\n",
              "    .colab-df-convert:hover {\n",
              "      background-color: #E2EBFA;\n",
              "      box-shadow: 0px 1px 2px rgba(60, 64, 67, 0.3), 0px 1px 3px 1px rgba(60, 64, 67, 0.15);\n",
              "      fill: #174EA6;\n",
              "    }\n",
              "\n",
              "    [theme=dark] .colab-df-convert {\n",
              "      background-color: #3B4455;\n",
              "      fill: #D2E3FC;\n",
              "    }\n",
              "\n",
              "    [theme=dark] .colab-df-convert:hover {\n",
              "      background-color: #434B5C;\n",
              "      box-shadow: 0px 1px 3px 1px rgba(0, 0, 0, 0.15);\n",
              "      filter: drop-shadow(0px 1px 2px rgba(0, 0, 0, 0.3));\n",
              "      fill: #FFFFFF;\n",
              "    }\n",
              "  </style>\n",
              "\n",
              "      <script>\n",
              "        const buttonEl =\n",
              "          document.querySelector('#df-c4799fd9-9225-411a-9cf8-78899ae91610 button.colab-df-convert');\n",
              "        buttonEl.style.display =\n",
              "          google.colab.kernel.accessAllowed ? 'block' : 'none';\n",
              "\n",
              "        async function convertToInteractive(key) {\n",
              "          const element = document.querySelector('#df-c4799fd9-9225-411a-9cf8-78899ae91610');\n",
              "          const dataTable =\n",
              "            await google.colab.kernel.invokeFunction('convertToInteractive',\n",
              "                                                     [key], {});\n",
              "          if (!dataTable) return;\n",
              "\n",
              "          const docLinkHtml = 'Like what you see? Visit the ' +\n",
              "            '<a target=\"_blank\" href=https://colab.research.google.com/notebooks/data_table.ipynb>data table notebook</a>'\n",
              "            + ' to learn more about interactive tables.';\n",
              "          element.innerHTML = '';\n",
              "          dataTable['output_type'] = 'display_data';\n",
              "          await google.colab.output.renderOutput(dataTable, element);\n",
              "          const docLink = document.createElement('div');\n",
              "          docLink.innerHTML = docLinkHtml;\n",
              "          element.appendChild(docLink);\n",
              "        }\n",
              "      </script>\n",
              "    </div>\n",
              "  </div>\n",
              "  "
            ]
          },
          "metadata": {},
          "execution_count": 9
        }
      ]
    },
    {
      "cell_type": "code",
      "source": [
        "df[\"month_year\"] = df[\"InvoiceDate\"].apply(lambda x: x.strftime('%Y-%m'))"
      ],
      "metadata": {
        "id": "dU_wVZQclAcv"
      },
      "execution_count": 10,
      "outputs": []
    },
    {
      "cell_type": "code",
      "source": [
        "df[\"month_year\"].min()"
      ],
      "metadata": {
        "colab": {
          "base_uri": "https://localhost:8080/",
          "height": 36
        },
        "id": "8ARW3LWfrlFC",
        "outputId": "8e4f16e0-e9d4-48bd-b434-d02c03b1d187"
      },
      "execution_count": 11,
      "outputs": [
        {
          "output_type": "execute_result",
          "data": {
            "text/plain": [
              "'2010-12'"
            ],
            "application/vnd.google.colaboratory.intrinsic+json": {
              "type": "string"
            }
          },
          "metadata": {},
          "execution_count": 11
        }
      ]
    },
    {
      "cell_type": "code",
      "source": [
        "df[\"profit\"] =df[\"UnitPrice\"]*df[\"Quantity\"]"
      ],
      "metadata": {
        "id": "_mFVMziBuuya"
      },
      "execution_count": 12,
      "outputs": []
    },
    {
      "cell_type": "code",
      "source": [
        "df.head()"
      ],
      "metadata": {
        "colab": {
          "base_uri": "https://localhost:8080/",
          "height": 426
        },
        "id": "EVrzsCNuu8bP",
        "outputId": "0e73a940-9772-45ac-adbf-2a10bc0ddca5"
      },
      "execution_count": 13,
      "outputs": [
        {
          "output_type": "execute_result",
          "data": {
            "text/plain": [
              "   InvoiceNo StockCode                      Description  Quantity  \\\n",
              "0     536381     71270                  PHOTO CLIP LINE         1   \n",
              "1     536381     22262            FELT EGG COSY CHICKEN         1   \n",
              "2     536381     22637            PIGGY BANK RETROSPOT          1   \n",
              "3     536381     21166       COOK WITH WINE METAL SIGN          1   \n",
              "4     536381    37444A  YELLOW BREAKFAST CUP AND SAUCER         1   \n",
              "\n",
              "          InvoiceDate  UnitPrice  CustomerID         Country month_year  \\\n",
              "0 2010-12-01 09:41:00       1.25       15311  United Kingdom    2010-12   \n",
              "1 2010-12-01 09:41:00       0.85       15311  United Kingdom    2010-12   \n",
              "2 2010-12-01 09:41:00       2.55       15311  United Kingdom    2010-12   \n",
              "3 2010-12-01 09:41:00       1.95       15311  United Kingdom    2010-12   \n",
              "4 2010-12-01 09:41:00       2.95       15311  United Kingdom    2010-12   \n",
              "\n",
              "   profit  \n",
              "0    1.25  \n",
              "1    0.85  \n",
              "2    2.55  \n",
              "3    1.95  \n",
              "4    2.95  "
            ],
            "text/html": [
              "\n",
              "  <div id=\"df-43764efa-97db-47b6-be12-d10b3140430f\">\n",
              "    <div class=\"colab-df-container\">\n",
              "      <div>\n",
              "<style scoped>\n",
              "    .dataframe tbody tr th:only-of-type {\n",
              "        vertical-align: middle;\n",
              "    }\n",
              "\n",
              "    .dataframe tbody tr th {\n",
              "        vertical-align: top;\n",
              "    }\n",
              "\n",
              "    .dataframe thead th {\n",
              "        text-align: right;\n",
              "    }\n",
              "</style>\n",
              "<table border=\"1\" class=\"dataframe\">\n",
              "  <thead>\n",
              "    <tr style=\"text-align: right;\">\n",
              "      <th></th>\n",
              "      <th>InvoiceNo</th>\n",
              "      <th>StockCode</th>\n",
              "      <th>Description</th>\n",
              "      <th>Quantity</th>\n",
              "      <th>InvoiceDate</th>\n",
              "      <th>UnitPrice</th>\n",
              "      <th>CustomerID</th>\n",
              "      <th>Country</th>\n",
              "      <th>month_year</th>\n",
              "      <th>profit</th>\n",
              "    </tr>\n",
              "  </thead>\n",
              "  <tbody>\n",
              "    <tr>\n",
              "      <th>0</th>\n",
              "      <td>536381</td>\n",
              "      <td>71270</td>\n",
              "      <td>PHOTO CLIP LINE</td>\n",
              "      <td>1</td>\n",
              "      <td>2010-12-01 09:41:00</td>\n",
              "      <td>1.25</td>\n",
              "      <td>15311</td>\n",
              "      <td>United Kingdom</td>\n",
              "      <td>2010-12</td>\n",
              "      <td>1.25</td>\n",
              "    </tr>\n",
              "    <tr>\n",
              "      <th>1</th>\n",
              "      <td>536381</td>\n",
              "      <td>22262</td>\n",
              "      <td>FELT EGG COSY CHICKEN</td>\n",
              "      <td>1</td>\n",
              "      <td>2010-12-01 09:41:00</td>\n",
              "      <td>0.85</td>\n",
              "      <td>15311</td>\n",
              "      <td>United Kingdom</td>\n",
              "      <td>2010-12</td>\n",
              "      <td>0.85</td>\n",
              "    </tr>\n",
              "    <tr>\n",
              "      <th>2</th>\n",
              "      <td>536381</td>\n",
              "      <td>22637</td>\n",
              "      <td>PIGGY BANK RETROSPOT</td>\n",
              "      <td>1</td>\n",
              "      <td>2010-12-01 09:41:00</td>\n",
              "      <td>2.55</td>\n",
              "      <td>15311</td>\n",
              "      <td>United Kingdom</td>\n",
              "      <td>2010-12</td>\n",
              "      <td>2.55</td>\n",
              "    </tr>\n",
              "    <tr>\n",
              "      <th>3</th>\n",
              "      <td>536381</td>\n",
              "      <td>21166</td>\n",
              "      <td>COOK WITH WINE METAL SIGN</td>\n",
              "      <td>1</td>\n",
              "      <td>2010-12-01 09:41:00</td>\n",
              "      <td>1.95</td>\n",
              "      <td>15311</td>\n",
              "      <td>United Kingdom</td>\n",
              "      <td>2010-12</td>\n",
              "      <td>1.95</td>\n",
              "    </tr>\n",
              "    <tr>\n",
              "      <th>4</th>\n",
              "      <td>536381</td>\n",
              "      <td>37444A</td>\n",
              "      <td>YELLOW BREAKFAST CUP AND SAUCER</td>\n",
              "      <td>1</td>\n",
              "      <td>2010-12-01 09:41:00</td>\n",
              "      <td>2.95</td>\n",
              "      <td>15311</td>\n",
              "      <td>United Kingdom</td>\n",
              "      <td>2010-12</td>\n",
              "      <td>2.95</td>\n",
              "    </tr>\n",
              "  </tbody>\n",
              "</table>\n",
              "</div>\n",
              "      <button class=\"colab-df-convert\" onclick=\"convertToInteractive('df-43764efa-97db-47b6-be12-d10b3140430f')\"\n",
              "              title=\"Convert this dataframe to an interactive table.\"\n",
              "              style=\"display:none;\">\n",
              "        \n",
              "  <svg xmlns=\"http://www.w3.org/2000/svg\" height=\"24px\"viewBox=\"0 0 24 24\"\n",
              "       width=\"24px\">\n",
              "    <path d=\"M0 0h24v24H0V0z\" fill=\"none\"/>\n",
              "    <path d=\"M18.56 5.44l.94 2.06.94-2.06 2.06-.94-2.06-.94-.94-2.06-.94 2.06-2.06.94zm-11 1L8.5 8.5l.94-2.06 2.06-.94-2.06-.94L8.5 2.5l-.94 2.06-2.06.94zm10 10l.94 2.06.94-2.06 2.06-.94-2.06-.94-.94-2.06-.94 2.06-2.06.94z\"/><path d=\"M17.41 7.96l-1.37-1.37c-.4-.4-.92-.59-1.43-.59-.52 0-1.04.2-1.43.59L10.3 9.45l-7.72 7.72c-.78.78-.78 2.05 0 2.83L4 21.41c.39.39.9.59 1.41.59.51 0 1.02-.2 1.41-.59l7.78-7.78 2.81-2.81c.8-.78.8-2.07 0-2.86zM5.41 20L4 18.59l7.72-7.72 1.47 1.35L5.41 20z\"/>\n",
              "  </svg>\n",
              "      </button>\n",
              "      \n",
              "  <style>\n",
              "    .colab-df-container {\n",
              "      display:flex;\n",
              "      flex-wrap:wrap;\n",
              "      gap: 12px;\n",
              "    }\n",
              "\n",
              "    .colab-df-convert {\n",
              "      background-color: #E8F0FE;\n",
              "      border: none;\n",
              "      border-radius: 50%;\n",
              "      cursor: pointer;\n",
              "      display: none;\n",
              "      fill: #1967D2;\n",
              "      height: 32px;\n",
              "      padding: 0 0 0 0;\n",
              "      width: 32px;\n",
              "    }\n",
              "\n",
              "    .colab-df-convert:hover {\n",
              "      background-color: #E2EBFA;\n",
              "      box-shadow: 0px 1px 2px rgba(60, 64, 67, 0.3), 0px 1px 3px 1px rgba(60, 64, 67, 0.15);\n",
              "      fill: #174EA6;\n",
              "    }\n",
              "\n",
              "    [theme=dark] .colab-df-convert {\n",
              "      background-color: #3B4455;\n",
              "      fill: #D2E3FC;\n",
              "    }\n",
              "\n",
              "    [theme=dark] .colab-df-convert:hover {\n",
              "      background-color: #434B5C;\n",
              "      box-shadow: 0px 1px 3px 1px rgba(0, 0, 0, 0.15);\n",
              "      filter: drop-shadow(0px 1px 2px rgba(0, 0, 0, 0.3));\n",
              "      fill: #FFFFFF;\n",
              "    }\n",
              "  </style>\n",
              "\n",
              "      <script>\n",
              "        const buttonEl =\n",
              "          document.querySelector('#df-43764efa-97db-47b6-be12-d10b3140430f button.colab-df-convert');\n",
              "        buttonEl.style.display =\n",
              "          google.colab.kernel.accessAllowed ? 'block' : 'none';\n",
              "\n",
              "        async function convertToInteractive(key) {\n",
              "          const element = document.querySelector('#df-43764efa-97db-47b6-be12-d10b3140430f');\n",
              "          const dataTable =\n",
              "            await google.colab.kernel.invokeFunction('convertToInteractive',\n",
              "                                                     [key], {});\n",
              "          if (!dataTable) return;\n",
              "\n",
              "          const docLinkHtml = 'Like what you see? Visit the ' +\n",
              "            '<a target=\"_blank\" href=https://colab.research.google.com/notebooks/data_table.ipynb>data table notebook</a>'\n",
              "            + ' to learn more about interactive tables.';\n",
              "          element.innerHTML = '';\n",
              "          dataTable['output_type'] = 'display_data';\n",
              "          await google.colab.output.renderOutput(dataTable, element);\n",
              "          const docLink = document.createElement('div');\n",
              "          docLink.innerHTML = docLinkHtml;\n",
              "          element.appendChild(docLink);\n",
              "        }\n",
              "      </script>\n",
              "    </div>\n",
              "  </div>\n",
              "  "
            ]
          },
          "metadata": {},
          "execution_count": 13
        }
      ]
    },
    {
      "cell_type": "code",
      "source": [
        "df_trend =(df.groupby(\"month_year\").sum()[\"profit\"].reset_index()).sort_values(by =[\"profit\"],ascending =False)\n",
        "df_trend"
      ],
      "metadata": {
        "id": "Q7_i8S8wsN58",
        "colab": {
          "base_uri": "https://localhost:8080/",
          "height": 457
        },
        "outputId": "1fa54642-0715-4f03-d3e2-efed1e04a556"
      },
      "execution_count": 14,
      "outputs": [
        {
          "output_type": "execute_result",
          "data": {
            "text/plain": [
              "   month_year       profit\n",
              "11    2011-11  1161817.380\n",
              "10    2011-10  1039318.790\n",
              "9     2011-09   952838.382\n",
              "5     2011-05   678594.560\n",
              "6     2011-06   661213.690\n",
              "8     2011-08   645343.900\n",
              "7     2011-07   600091.011\n",
              "3     2011-03   595500.760\n",
              "0     2010-12   572713.890\n",
              "1     2011-01   569445.040\n",
              "12    2011-12   518192.790\n",
              "4     2011-04   469200.361\n",
              "2     2011-02   447137.350"
            ],
            "text/html": [
              "\n",
              "  <div id=\"df-176ea7dc-31c4-4b3e-8c47-d821a13fa0cd\">\n",
              "    <div class=\"colab-df-container\">\n",
              "      <div>\n",
              "<style scoped>\n",
              "    .dataframe tbody tr th:only-of-type {\n",
              "        vertical-align: middle;\n",
              "    }\n",
              "\n",
              "    .dataframe tbody tr th {\n",
              "        vertical-align: top;\n",
              "    }\n",
              "\n",
              "    .dataframe thead th {\n",
              "        text-align: right;\n",
              "    }\n",
              "</style>\n",
              "<table border=\"1\" class=\"dataframe\">\n",
              "  <thead>\n",
              "    <tr style=\"text-align: right;\">\n",
              "      <th></th>\n",
              "      <th>month_year</th>\n",
              "      <th>profit</th>\n",
              "    </tr>\n",
              "  </thead>\n",
              "  <tbody>\n",
              "    <tr>\n",
              "      <th>11</th>\n",
              "      <td>2011-11</td>\n",
              "      <td>1161817.380</td>\n",
              "    </tr>\n",
              "    <tr>\n",
              "      <th>10</th>\n",
              "      <td>2011-10</td>\n",
              "      <td>1039318.790</td>\n",
              "    </tr>\n",
              "    <tr>\n",
              "      <th>9</th>\n",
              "      <td>2011-09</td>\n",
              "      <td>952838.382</td>\n",
              "    </tr>\n",
              "    <tr>\n",
              "      <th>5</th>\n",
              "      <td>2011-05</td>\n",
              "      <td>678594.560</td>\n",
              "    </tr>\n",
              "    <tr>\n",
              "      <th>6</th>\n",
              "      <td>2011-06</td>\n",
              "      <td>661213.690</td>\n",
              "    </tr>\n",
              "    <tr>\n",
              "      <th>8</th>\n",
              "      <td>2011-08</td>\n",
              "      <td>645343.900</td>\n",
              "    </tr>\n",
              "    <tr>\n",
              "      <th>7</th>\n",
              "      <td>2011-07</td>\n",
              "      <td>600091.011</td>\n",
              "    </tr>\n",
              "    <tr>\n",
              "      <th>3</th>\n",
              "      <td>2011-03</td>\n",
              "      <td>595500.760</td>\n",
              "    </tr>\n",
              "    <tr>\n",
              "      <th>0</th>\n",
              "      <td>2010-12</td>\n",
              "      <td>572713.890</td>\n",
              "    </tr>\n",
              "    <tr>\n",
              "      <th>1</th>\n",
              "      <td>2011-01</td>\n",
              "      <td>569445.040</td>\n",
              "    </tr>\n",
              "    <tr>\n",
              "      <th>12</th>\n",
              "      <td>2011-12</td>\n",
              "      <td>518192.790</td>\n",
              "    </tr>\n",
              "    <tr>\n",
              "      <th>4</th>\n",
              "      <td>2011-04</td>\n",
              "      <td>469200.361</td>\n",
              "    </tr>\n",
              "    <tr>\n",
              "      <th>2</th>\n",
              "      <td>2011-02</td>\n",
              "      <td>447137.350</td>\n",
              "    </tr>\n",
              "  </tbody>\n",
              "</table>\n",
              "</div>\n",
              "      <button class=\"colab-df-convert\" onclick=\"convertToInteractive('df-176ea7dc-31c4-4b3e-8c47-d821a13fa0cd')\"\n",
              "              title=\"Convert this dataframe to an interactive table.\"\n",
              "              style=\"display:none;\">\n",
              "        \n",
              "  <svg xmlns=\"http://www.w3.org/2000/svg\" height=\"24px\"viewBox=\"0 0 24 24\"\n",
              "       width=\"24px\">\n",
              "    <path d=\"M0 0h24v24H0V0z\" fill=\"none\"/>\n",
              "    <path d=\"M18.56 5.44l.94 2.06.94-2.06 2.06-.94-2.06-.94-.94-2.06-.94 2.06-2.06.94zm-11 1L8.5 8.5l.94-2.06 2.06-.94-2.06-.94L8.5 2.5l-.94 2.06-2.06.94zm10 10l.94 2.06.94-2.06 2.06-.94-2.06-.94-.94-2.06-.94 2.06-2.06.94z\"/><path d=\"M17.41 7.96l-1.37-1.37c-.4-.4-.92-.59-1.43-.59-.52 0-1.04.2-1.43.59L10.3 9.45l-7.72 7.72c-.78.78-.78 2.05 0 2.83L4 21.41c.39.39.9.59 1.41.59.51 0 1.02-.2 1.41-.59l7.78-7.78 2.81-2.81c.8-.78.8-2.07 0-2.86zM5.41 20L4 18.59l7.72-7.72 1.47 1.35L5.41 20z\"/>\n",
              "  </svg>\n",
              "      </button>\n",
              "      \n",
              "  <style>\n",
              "    .colab-df-container {\n",
              "      display:flex;\n",
              "      flex-wrap:wrap;\n",
              "      gap: 12px;\n",
              "    }\n",
              "\n",
              "    .colab-df-convert {\n",
              "      background-color: #E8F0FE;\n",
              "      border: none;\n",
              "      border-radius: 50%;\n",
              "      cursor: pointer;\n",
              "      display: none;\n",
              "      fill: #1967D2;\n",
              "      height: 32px;\n",
              "      padding: 0 0 0 0;\n",
              "      width: 32px;\n",
              "    }\n",
              "\n",
              "    .colab-df-convert:hover {\n",
              "      background-color: #E2EBFA;\n",
              "      box-shadow: 0px 1px 2px rgba(60, 64, 67, 0.3), 0px 1px 3px 1px rgba(60, 64, 67, 0.15);\n",
              "      fill: #174EA6;\n",
              "    }\n",
              "\n",
              "    [theme=dark] .colab-df-convert {\n",
              "      background-color: #3B4455;\n",
              "      fill: #D2E3FC;\n",
              "    }\n",
              "\n",
              "    [theme=dark] .colab-df-convert:hover {\n",
              "      background-color: #434B5C;\n",
              "      box-shadow: 0px 1px 3px 1px rgba(0, 0, 0, 0.15);\n",
              "      filter: drop-shadow(0px 1px 2px rgba(0, 0, 0, 0.3));\n",
              "      fill: #FFFFFF;\n",
              "    }\n",
              "  </style>\n",
              "\n",
              "      <script>\n",
              "        const buttonEl =\n",
              "          document.querySelector('#df-176ea7dc-31c4-4b3e-8c47-d821a13fa0cd button.colab-df-convert');\n",
              "        buttonEl.style.display =\n",
              "          google.colab.kernel.accessAllowed ? 'block' : 'none';\n",
              "\n",
              "        async function convertToInteractive(key) {\n",
              "          const element = document.querySelector('#df-176ea7dc-31c4-4b3e-8c47-d821a13fa0cd');\n",
              "          const dataTable =\n",
              "            await google.colab.kernel.invokeFunction('convertToInteractive',\n",
              "                                                     [key], {});\n",
              "          if (!dataTable) return;\n",
              "\n",
              "          const docLinkHtml = 'Like what you see? Visit the ' +\n",
              "            '<a target=\"_blank\" href=https://colab.research.google.com/notebooks/data_table.ipynb>data table notebook</a>'\n",
              "            + ' to learn more about interactive tables.';\n",
              "          element.innerHTML = '';\n",
              "          dataTable['output_type'] = 'display_data';\n",
              "          await google.colab.output.renderOutput(dataTable, element);\n",
              "          const docLink = document.createElement('div');\n",
              "          docLink.innerHTML = docLinkHtml;\n",
              "          element.appendChild(docLink);\n",
              "        }\n",
              "      </script>\n",
              "    </div>\n",
              "  </div>\n",
              "  "
            ]
          },
          "metadata": {},
          "execution_count": 14
        }
      ]
    },
    {
      "cell_type": "code",
      "source": [
        "plt.figure(figsize=(15,6))\n",
        "plt.plot(df_trend[\"month_year\"], df_trend[\"profit\"], color='#b80045')\n",
        "plt.xticks(rotation ='vertical', size =8)\n",
        "plt.show()"
      ],
      "metadata": {
        "colab": {
          "base_uri": "https://localhost:8080/",
          "height": 381
        },
        "id": "nozFEcBivUwu",
        "outputId": "724ff605-9af7-4d67-96f4-428945ee26a1"
      },
      "execution_count": 15,
      "outputs": [
        {
          "output_type": "display_data",
          "data": {
            "text/plain": [
              "<Figure size 1080x432 with 1 Axes>"
            ],
            "image/png": "[encoded data removed]"
          },
          "metadata": {
            "needs_background": "light"
          }
        }
      ]
    },
    {
      "cell_type": "markdown",
      "source": [
        "# We can see the monthly-yearly trend and November is the best month for the 13 months of data that we have"
      ],
      "metadata": {
        "id": "i9mB839DnZC3"
      }
    },
    {
      "cell_type": "code",
      "source": [
        "df.shape"
      ],
      "metadata": {
        "colab": {
          "base_uri": "https://localhost:8080/"
        },
        "id": "jMg2WyujvjUt",
        "outputId": "3d680a03-8078-4599-f3a0-b7ab0e54baf0"
      },
      "execution_count": 16,
      "outputs": [
        {
          "output_type": "execute_result",
          "data": {
            "text/plain": [
              "(397924, 10)"
            ]
          },
          "metadata": {},
          "execution_count": 16
        }
      ]
    },
    {
      "cell_type": "code",
      "source": [
        "# Our top customers \n",
        "df_customers=df.groupby(\"CustomerID\").sum()[\"profit\"].sort_values(ascending =False).head(10)\n"
      ],
      "metadata": {
        "id": "oNaDZWc1t4OY"
      },
      "execution_count": 17,
      "outputs": []
    },
    {
      "cell_type": "code",
      "source": [
        "df_customers.head(10)"
      ],
      "metadata": {
        "colab": {
          "base_uri": "https://localhost:8080/"
        },
        "id": "VAsF7ol4xly3",
        "outputId": "aa85c39a-f38d-4498-c9b0-4b6d51a33157"
      },
      "execution_count": 18,
      "outputs": [
        {
          "output_type": "execute_result",
          "data": {
            "text/plain": [
              "CustomerID\n",
              "14646    280206.02\n",
              "18102    259657.30\n",
              "17450    194550.79\n",
              "16446    168472.50\n",
              "14911    143825.06\n",
              "12415    124914.53\n",
              "14156    117379.63\n",
              "17511     91062.38\n",
              "16029     81024.84\n",
              "12346     77183.60\n",
              "Name: profit, dtype: float64"
            ]
          },
          "metadata": {},
          "execution_count": 18
        }
      ]
    },
    {
      "cell_type": "code",
      "source": [
        "df_customers.plot.bar(x=\"CustomerID\", y=\"profit\", rot=70, title=\"Top 10 [Customers]\");\n",
        "\n",
        "plt.show();"
      ],
      "metadata": {
        "colab": {
          "base_uri": "https://localhost:8080/",
          "height": 319
        },
        "id": "0x0QeebZviZ0",
        "outputId": "5ee68400-c060-4a81-ba40-f7f46b522810"
      },
      "execution_count": 22,
      "outputs": [
        {
          "output_type": "display_data",
          "data": {
            "text/plain": [
              "<Figure size 432x288 with 1 Axes>"
            ],
            "image/png": "[encoded data removed]"
          },
          "metadata": {
            "needs_background": "light"
          }
        }
      ]
    },
    {
      "cell_type": "code",
      "source": [
        "# Top 6 Countries\n",
        "df_countries =df.groupby(\"Country\").sum()[\"profit\"].sort_values(ascending =False)"
      ],
      "metadata": {
        "id": "f8AkIsqNyj3m"
      },
      "execution_count": 145,
      "outputs": []
    },
    {
      "cell_type": "code",
      "source": [
        "top_6 = df_countries.head(6)"
      ],
      "metadata": {
        "id": "U0eoUKM8yyOx"
      },
      "execution_count": 146,
      "outputs": []
    },
    {
      "cell_type": "code",
      "source": [
        "top_6.plot.bar(x=\"Country\", y=\"profit\",rot=70,  title=\"Top 10 [Countries]\");\n",
        "\n",
        "plt.show();"
      ],
      "metadata": {
        "colab": {
          "base_uri": "https://localhost:8080/",
          "height": 366
        },
        "id": "7aBDD_nGD0fo",
        "outputId": "0621104c-21e9-4327-8088-1a6c0686ae04"
      },
      "execution_count": 149,
      "outputs": [
        {
          "output_type": "display_data",
          "data": {
            "text/plain": [
              "<Figure size 432x288 with 1 Axes>"
            ],
            "image/png": "[encoded data removed]"
          },
          "metadata": {
            "needs_background": "light"
          }
        }
      ]
    },
    {
      "cell_type": "code",
      "source": [
        "df[\"hour\"] =df[\"InvoiceDate\"].dt.hour\n",
        "df[\"count\"] =1\n",
        "df.head()"
      ],
      "metadata": {
        "colab": {
          "base_uri": "https://localhost:8080/",
          "height": 426
        },
        "id": "c074CkoX2Km3",
        "outputId": "e0b78c0d-7822-4b01-fd46-3a3bdb0adb19"
      },
      "execution_count": 125,
      "outputs": [
        {
          "output_type": "execute_result",
          "data": {
            "text/plain": [
              "   InvoiceNo StockCode                      Description  Quantity  \\\n",
              "0     536381     71270                  PHOTO CLIP LINE         1   \n",
              "1     536381     22262            FELT EGG COSY CHICKEN         1   \n",
              "2     536381     22637            PIGGY BANK RETROSPOT          1   \n",
              "3     536381     21166       COOK WITH WINE METAL SIGN          1   \n",
              "4     536381    37444A  YELLOW BREAKFAST CUP AND SAUCER         1   \n",
              "\n",
              "          InvoiceDate  UnitPrice  CustomerID         Country month_year  \\\n",
              "0 2010-12-01 09:41:00       1.25       15311  United Kingdom    2010-12   \n",
              "1 2010-12-01 09:41:00       0.85       15311  United Kingdom    2010-12   \n",
              "2 2010-12-01 09:41:00       2.55       15311  United Kingdom    2010-12   \n",
              "3 2010-12-01 09:41:00       1.95       15311  United Kingdom    2010-12   \n",
              "4 2010-12-01 09:41:00       2.95       15311  United Kingdom    2010-12   \n",
              "\n",
              "   profit  hour  count  \n",
              "0    1.25     9      1  \n",
              "1    0.85     9      1  \n",
              "2    2.55     9      1  \n",
              "3    1.95     9      1  \n",
              "4    2.95     9      1  "
            ],
            "text/html": [
              "\n",
              "  <div id=\"df-48c1d821-56e9-4a06-984d-4a28a9b02744\">\n",
              "    <div class=\"colab-df-container\">\n",
              "      <div>\n",
              "<style scoped>\n",
              "    .dataframe tbody tr th:only-of-type {\n",
              "        vertical-align: middle;\n",
              "    }\n",
              "\n",
              "    .dataframe tbody tr th {\n",
              "        vertical-align: top;\n",
              "    }\n",
              "\n",
              "    .dataframe thead th {\n",
              "        text-align: right;\n",
              "    }\n",
              "</style>\n",
              "<table border=\"1\" class=\"dataframe\">\n",
              "  <thead>\n",
              "    <tr style=\"text-align: right;\">\n",
              "      <th></th>\n",
              "      <th>InvoiceNo</th>\n",
              "      <th>StockCode</th>\n",
              "      <th>Description</th>\n",
              "      <th>Quantity</th>\n",
              "      <th>InvoiceDate</th>\n",
              "      <th>UnitPrice</th>\n",
              "      <th>CustomerID</th>\n",
              "      <th>Country</th>\n",
              "      <th>month_year</th>\n",
              "      <th>profit</th>\n",
              "      <th>hour</th>\n",
              "      <th>count</th>\n",
              "    </tr>\n",
              "  </thead>\n",
              "  <tbody>\n",
              "    <tr>\n",
              "      <th>0</th>\n",
              "      <td>536381</td>\n",
              "      <td>71270</td>\n",
              "      <td>PHOTO CLIP LINE</td>\n",
              "      <td>1</td>\n",
              "      <td>2010-12-01 09:41:00</td>\n",
              "      <td>1.25</td>\n",
              "      <td>15311</td>\n",
              "      <td>United Kingdom</td>\n",
              "      <td>2010-12</td>\n",
              "      <td>1.25</td>\n",
              "      <td>9</td>\n",
              "      <td>1</td>\n",
              "    </tr>\n",
              "    <tr>\n",
              "      <th>1</th>\n",
              "      <td>536381</td>\n",
              "      <td>22262</td>\n",
              "      <td>FELT EGG COSY CHICKEN</td>\n",
              "      <td>1</td>\n",
              "      <td>2010-12-01 09:41:00</td>\n",
              "      <td>0.85</td>\n",
              "      <td>15311</td>\n",
              "      <td>United Kingdom</td>\n",
              "      <td>2010-12</td>\n",
              "      <td>0.85</td>\n",
              "      <td>9</td>\n",
              "      <td>1</td>\n",
              "    </tr>\n",
              "    <tr>\n",
              "      <th>2</th>\n",
              "      <td>536381</td>\n",
              "      <td>22637</td>\n",
              "      <td>PIGGY BANK RETROSPOT</td>\n",
              "      <td>1</td>\n",
              "      <td>2010-12-01 09:41:00</td>\n",
              "      <td>2.55</td>\n",
              "      <td>15311</td>\n",
              "      <td>United Kingdom</td>\n",
              "      <td>2010-12</td>\n",
              "      <td>2.55</td>\n",
              "      <td>9</td>\n",
              "      <td>1</td>\n",
              "    </tr>\n",
              "    <tr>\n",
              "      <th>3</th>\n",
              "      <td>536381</td>\n",
              "      <td>21166</td>\n",
              "      <td>COOK WITH WINE METAL SIGN</td>\n",
              "      <td>1</td>\n",
              "      <td>2010-12-01 09:41:00</td>\n",
              "      <td>1.95</td>\n",
              "      <td>15311</td>\n",
              "      <td>United Kingdom</td>\n",
              "      <td>2010-12</td>\n",
              "      <td>1.95</td>\n",
              "      <td>9</td>\n",
              "      <td>1</td>\n",
              "    </tr>\n",
              "    <tr>\n",
              "      <th>4</th>\n",
              "      <td>536381</td>\n",
              "      <td>37444A</td>\n",
              "      <td>YELLOW BREAKFAST CUP AND SAUCER</td>\n",
              "      <td>1</td>\n",
              "      <td>2010-12-01 09:41:00</td>\n",
              "      <td>2.95</td>\n",
              "      <td>15311</td>\n",
              "      <td>United Kingdom</td>\n",
              "      <td>2010-12</td>\n",
              "      <td>2.95</td>\n",
              "      <td>9</td>\n",
              "      <td>1</td>\n",
              "    </tr>\n",
              "  </tbody>\n",
              "</table>\n",
              "</div>\n",
              "      <button class=\"colab-df-convert\" onclick=\"convertToInteractive('df-48c1d821-56e9-4a06-984d-4a28a9b02744')\"\n",
              "              title=\"Convert this dataframe to an interactive table.\"\n",
              "              style=\"display:none;\">\n",
              "        \n",
              "  <svg xmlns=\"http://www.w3.org/2000/svg\" height=\"24px\"viewBox=\"0 0 24 24\"\n",
              "       width=\"24px\">\n",
              "    <path d=\"M0 0h24v24H0V0z\" fill=\"none\"/>\n",
              "    <path d=\"M18.56 5.44l.94 2.06.94-2.06 2.06-.94-2.06-.94-.94-2.06-.94 2.06-2.06.94zm-11 1L8.5 8.5l.94-2.06 2.06-.94-2.06-.94L8.5 2.5l-.94 2.06-2.06.94zm10 10l.94 2.06.94-2.06 2.06-.94-2.06-.94-.94-2.06-.94 2.06-2.06.94z\"/><path d=\"M17.41 7.96l-1.37-1.37c-.4-.4-.92-.59-1.43-.59-.52 0-1.04.2-1.43.59L10.3 9.45l-7.72 7.72c-.78.78-.78 2.05 0 2.83L4 21.41c.39.39.9.59 1.41.59.51 0 1.02-.2 1.41-.59l7.78-7.78 2.81-2.81c.8-.78.8-2.07 0-2.86zM5.41 20L4 18.59l7.72-7.72 1.47 1.35L5.41 20z\"/>\n",
              "  </svg>\n",
              "      </button>\n",
              "      \n",
              "  <style>\n",
              "    .colab-df-container {\n",
              "      display:flex;\n",
              "      flex-wrap:wrap;\n",
              "      gap: 12px;\n",
              "    }\n",
              "\n",
              "    .colab-df-convert {\n",
              "      background-color: #E8F0FE;\n",
              "      border: none;\n",
              "      border-radius: 50%;\n",
              "      cursor: pointer;\n",
              "      display: none;\n",
              "      fill: #1967D2;\n",
              "      height: 32px;\n",
              "      padding: 0 0 0 0;\n",
              "      width: 32px;\n",
              "    }\n",
              "\n",
              "    .colab-df-convert:hover {\n",
              "      background-color: #E2EBFA;\n",
              "      box-shadow: 0px 1px 2px rgba(60, 64, 67, 0.3), 0px 1px 3px 1px rgba(60, 64, 67, 0.15);\n",
              "      fill: #174EA6;\n",
              "    }\n",
              "\n",
              "    [theme=dark] .colab-df-convert {\n",
              "      background-color: #3B4455;\n",
              "      fill: #D2E3FC;\n",
              "    }\n",
              "\n",
              "    [theme=dark] .colab-df-convert:hover {\n",
              "      background-color: #434B5C;\n",
              "      box-shadow: 0px 1px 3px 1px rgba(0, 0, 0, 0.15);\n",
              "      filter: drop-shadow(0px 1px 2px rgba(0, 0, 0, 0.3));\n",
              "      fill: #FFFFFF;\n",
              "    }\n",
              "  </style>\n",
              "\n",
              "      <script>\n",
              "        const buttonEl =\n",
              "          document.querySelector('#df-48c1d821-56e9-4a06-984d-4a28a9b02744 button.colab-df-convert');\n",
              "        buttonEl.style.display =\n",
              "          google.colab.kernel.accessAllowed ? 'block' : 'none';\n",
              "\n",
              "        async function convertToInteractive(key) {\n",
              "          const element = document.querySelector('#df-48c1d821-56e9-4a06-984d-4a28a9b02744');\n",
              "          const dataTable =\n",
              "            await google.colab.kernel.invokeFunction('convertToInteractive',\n",
              "                                                     [key], {});\n",
              "          if (!dataTable) return;\n",
              "\n",
              "          const docLinkHtml = 'Like what you see? Visit the ' +\n",
              "            '<a target=\"_blank\" href=https://colab.research.google.com/notebooks/data_table.ipynb>data table notebook</a>'\n",
              "            + ' to learn more about interactive tables.';\n",
              "          element.innerHTML = '';\n",
              "          dataTable['output_type'] = 'display_data';\n",
              "          await google.colab.output.renderOutput(dataTable, element);\n",
              "          const docLink = document.createElement('div');\n",
              "          docLink.innerHTML = docLinkHtml;\n",
              "          element.appendChild(docLink);\n",
              "        }\n",
              "      </script>\n",
              "    </div>\n",
              "  </div>\n",
              "  "
            ]
          },
          "metadata": {},
          "execution_count": 125
        }
      ]
    },
    {
      "cell_type": "code",
      "source": [
        "hours = [hour for hour, df in df.groupby(['hour'])]\n",
        "hours"
      ],
      "metadata": {
        "colab": {
          "base_uri": "https://localhost:8080/"
        },
        "id": "W_TN9cZACz7B",
        "outputId": "27e60be7-9261-4a14-9dbe-44e10928b80a"
      },
      "execution_count": 139,
      "outputs": [
        {
          "output_type": "execute_result",
          "data": {
            "text/plain": [
              "[6, 7, 8, 9, 10, 11, 12, 13, 14, 15, 16, 17, 18, 19, 20]"
            ]
          },
          "metadata": {},
          "execution_count": 139
        }
      ]
    },
    {
      "cell_type": "code",
      "source": [
        "plt.plot(hours, df.groupby(['hour']).count())\n",
        "plt.grid();\n",
        "\n"
      ],
      "metadata": {
        "id": "oNa0spGG50XU",
        "colab": {
          "base_uri": "https://localhost:8080/",
          "height": 265
        },
        "outputId": "f8758299-e97b-499a-a354-279710466070"
      },
      "execution_count": 150,
      "outputs": [
        {
          "output_type": "display_data",
          "data": {
            "text/plain": [
              "<Figure size 432x288 with 1 Axes>"
            ],
            "image/png": "[encoded data removed]"
          },
          "metadata": {
            "needs_background": "light"
          }
        }
      ]
    },
    {
      "cell_type": "markdown",
      "source": [
        "# The Conclusion, Summary and Findings of this Analysis is that, 12PM is their Peak Hour, United Kingdom is the country amongst their branches that makes the most Revenue, and the Customer with CustomerID 14646 is their best Customer as a matter of fact the TOP 10 Customers makes the most Revenue for this Online Retail Company"
      ],
      "metadata": {
        "id": "Y-hKbCEIEfQD"
      }
    }
  ]
}